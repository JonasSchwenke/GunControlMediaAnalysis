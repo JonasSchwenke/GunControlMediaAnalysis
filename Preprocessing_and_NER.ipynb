{
 "cells": [
  {
   "cell_type": "markdown",
   "metadata": {},
   "source": [
    "```!python3 -m spacy download en_core_web_lg```"
   ]
  },
  {
   "cell_type": "code",
   "execution_count": 9,
   "metadata": {},
   "outputs": [],
   "source": [
    "import spacy\n",
    "import pandas as pd\n",
    "import numpy as np\n",
    "import nltk\n",
    "import time\n",
    "from tqdm import tqdm\n",
    "import operator\n",
    "from fuzzywuzzy import fuzz\n",
    "import datetime\n",
    "import itertools\n",
    "import matplotlib.pyplot as plt\n",
    "import warnings\n",
    "warnings.filterwarnings(\"ignore\")\n",
    "# eng = spacy.load('en_core_web_lg')"
   ]
  },
  {
   "cell_type": "code",
   "execution_count": 10,
   "metadata": {
    "code_folding": [
     0
    ],
    "scrolled": true
   },
   "outputs": [],
   "source": [
    "# load scraped articles\n",
    "df1 = pd.read_csv('Data/30B113K_scraped_0Kto50K.csv', sep=';', encoding='utf-8', parse_dates=['publish_date'])\n",
    "df2 = pd.read_csv('Data/30B113K_scraped_50KtoEnd.csv', sep=';', encoding='utf-8', parse_dates=['publish_date'])\n",
    "df = df1.append(df2)"
   ]
  },
  {
   "cell_type": "code",
   "execution_count": 11,
   "metadata": {},
   "outputs": [
    {
     "data": {
      "text/plain": [
       "62248"
      ]
     },
     "execution_count": 11,
     "metadata": {},
     "output_type": "execute_result"
    }
   ],
   "source": [
    "len(df)"
   ]
  },
  {
   "cell_type": "code",
   "execution_count": 11,
   "metadata": {
    "code_folding": [
     0
    ]
   },
   "outputs": [],
   "source": [
    "# optional sample\n",
    "df = df.sample(1000).reset_index(drop=True)"
   ]
  },
  {
   "cell_type": "markdown",
   "metadata": {},
   "source": [
    "## Preprocessing"
   ]
  },
  {
   "cell_type": "code",
   "execution_count": 12,
   "metadata": {
    "code_folding": [
     0
    ]
   },
   "outputs": [],
   "source": [
    "# add mediabias to scraped articles\n",
    "bias = pd.read_csv('Data/mediacloud30bias.csv', sep=';', encoding='utf-8')\n",
    "df['mix_rating'] = None\n",
    "for i, media in enumerate(df.media_name):\n",
    "    for j, media2 in enumerate(bias.media_name):\n",
    "        if media == media2:\n",
    "            df['mix_rating'].iloc[i] = bias.mix_rating.iloc[j]"
   ]
  },
  {
   "cell_type": "code",
   "execution_count": 13,
   "metadata": {
    "code_folding": [
     0
    ],
    "collapsed": true
   },
   "outputs": [
    {
     "name": "stdout",
     "output_type": "stream",
     "text": [
      "media: Business Insider\n",
      "title: NRA leadership thought its own TV channel was airing 'distasteful and racist' content\n",
      "date: 28.10.19 14:22\n",
      "url: http://feedproxy.google.com/~r/businessinsider/~3/4fVlBq6L8uY/nra-leaders-found-nratv-to-be-distasteful-and-racist-2019-10\n",
      "text: NRA leaders ripped into NRATV content as \"distasteful and racist\" in a new court filing linked to a lawsuit with the ad firm that created the now-defunct TV station.\n",
      "\n",
      "\"One particularly damaging segment featured children's cartoon characters adorned in Ku Klux Klan hoods,\" the court filing stated.\n",
      "\n",
      "\"Tellingly, when NRATV finally shut down in June 2019, no one missed it,\" the NRA states in the filing.\n",
      "\n",
      "The ad firm rejected the NRA's allegations as \"false claims\" and slammed its leadership, stating they are now groveling \"at the feet of the media they used to decry.\"\n",
      "\n",
      "The lawsuit comes amid a year of bad headlines for the NRA, including reports of infighting between leaders as well as serious financial troubles.\n",
      "\n",
      "Visit Business Insider's homepage for more stories.\n",
      "\n",
      "Top NRA officials found content on NRATV to be \"distasteful and racist,\" according to a federal lawsuit between the gun rights organization and the ad firm that created the TV outlet, which no longer exists.\n",
      "\n",
      "\"NRATV's messaging strayed from the Second Amendment to themes which some NRA leaders found distasteful and racist,\" an amended complaint filed on October 25 in the NRA's lawsuit against Ackerman McQueen (AMc) stated. \"One particularly damaging segment featured children's cartoon characters adorned in Ku Klux Klan hoods.\"\n",
      "\n",
      "The complaint alleges that the NRA attempted to \"rein in\" AMc over such content, but that the ad firm responded with hostility or evasiveness.\n",
      "\n",
      "\"Tellingly, when NRATV finally shut down in June 2019, no one missed it,\" the NRA states in the filing. \"Not a single sponsor or viewer even called, confirming what at least some NRA executives suspected — the site had limited visibility and was failing to accomplish any of its goals.\"\n",
      "\n",
      "The ad firm provided a statement to The Daily Beast that rejected the NRA's allegations as \"false claims\" and ripped into the group's leadership.\n",
      "\n",
      "The statement was particularly critical of NRA CEO Wayne LaPierre — whose personal spending has recently come under scrutiny — stating that he and other NRA leaders are now groveling \"at the feet of the media they used to decry\" with the lawsuit. It described the suit as a \"cynical attempt to distract from Wayne LaPierre's documented mismanagement of the organization and the captive board's complicit behavior.\"\n",
      "\n",
      "\"In the final 18 months, AMc representatives progressively discovered that LaPierre and his executive team, with the board's oversight and approval, were marketing false products and narratives to NRA members, covering up sexual harassment, attempting to intimidate public officials, disrupting internal investigations about Russia, spending member money for personal benefit and more,\" the statement said.\n",
      "\n",
      "\"LaPierre controlled every aspect of NRATV for which he recruited talent, approved every budget, audited every metric and required ultimate confidentiality,\" the statement added. \"Ackerman McQueen routinely offered and toward the end of the relationship demanded that an outside firm audit NRATV performance but LaPierre refused.\"\n",
      "\n",
      "NRATV featured conservative media figures like Dana Loesch and Dan Bongino, who've garnered reputations for incendiary commentary. Loesch was widely criticized over a 2017 NRA ad that she starred in that was viewed by some progressives as an \"open call to violence\" against those who oppose President Donald Trump. The ad echoed language used by LaPierre at the Conservative Political Action Conference earlier that year.\n",
      "\n",
      "The lawsuit comes amid a year of bad headlines for the NRA, including reports of infighting between leaders as well serious financial troubles.\n"
     ]
    }
   ],
   "source": [
    "# check random article\n",
    "s = df.sample(1).iloc[0]\n",
    "print('media: '+ str(s[0]))\n",
    "print('title: ' + s[1])\n",
    "print('date: ' + str(s[5]))\n",
    "print('url: ' + str(s[3]))\n",
    "print('text: ' + str(s[2]))"
   ]
  },
  {
   "cell_type": "code",
   "execution_count": 13,
   "metadata": {
    "code_folding": [
     0
    ]
   },
   "outputs": [
    {
     "name": "stdout",
     "output_type": "stream",
     "text": [
      "Missings: removed 11300 of 62248 articles\n",
      "Duplicate texts: removed 7321 of 50948 articles\n"
     ]
    }
   ],
   "source": [
    "# remove missings and duplicate texts\n",
    "len1 = len(df)\n",
    "df = df[(df.text.isnull() == False) & \n",
    "        (df.publish_date.isnull() == False) & \n",
    "        (df.title.isnull() == False) &\n",
    "        (df.mix_rating.isnull() == False)]\n",
    "len2 = len(df)\n",
    "print('Missings: removed %i of %i articles' % (len1-len2,len1))\n",
    "\n",
    "df = df.drop_duplicates(subset='text', keep=\"first\")\n",
    "\n",
    "len3 = len(df)\n",
    "print('Duplicate texts: removed %i of %i articles' % (len2-len3,len2))"
   ]
  },
  {
   "cell_type": "code",
   "execution_count": 14,
   "metadata": {
    "code_folding": [
     0
    ]
   },
   "outputs": [],
   "source": [
    "# convert dates\n",
    "df['datetime'] =  pd.to_datetime(df['publish_date'], dayfirst=True, errors='coerce')\n",
    "\n",
    "# convert to date\n",
    "df['date'] = df['datetime'].dt.date\n",
    "df['year'] = df['datetime'].dt.strftime('%Y')\n",
    "\n",
    "# drop all outside daterange\n",
    "start = datetime.datetime.strptime('2012-01-01', \"%Y-%m-%d\").date()\n",
    "end = datetime.datetime.strptime('2019-12-31', \"%Y-%m-%d\").date()\n",
    "drange = (df['date'] >= start) & (df['date'] <= end)\n",
    "df = df.loc[drange]"
   ]
  },
  {
   "cell_type": "markdown",
   "metadata": {},
   "source": [
    "## Descriptive"
   ]
  },
  {
   "cell_type": "code",
   "execution_count": 25,
   "metadata": {
    "code_folding": [
     0
    ],
    "collapsed": true
   },
   "outputs": [
    {
     "data": {
      "text/html": [
       "<div>\n",
       "<style scoped>\n",
       "    .dataframe tbody tr th:only-of-type {\n",
       "        vertical-align: middle;\n",
       "    }\n",
       "\n",
       "    .dataframe tbody tr th {\n",
       "        vertical-align: top;\n",
       "    }\n",
       "\n",
       "    .dataframe thead th {\n",
       "        text-align: right;\n",
       "    }\n",
       "</style>\n",
       "<table border=\"1\" class=\"dataframe\">\n",
       "  <thead>\n",
       "    <tr style=\"text-align: right;\">\n",
       "      <th></th>\n",
       "      <th></th>\n",
       "      <th>Total</th>\n",
       "      <th>Gun Control</th>\n",
       "      <th>Gun Rights</th>\n",
       "      <th>Gun Laws</th>\n",
       "    </tr>\n",
       "    <tr>\n",
       "      <th>media_name</th>\n",
       "      <th>mix_rating</th>\n",
       "      <th></th>\n",
       "      <th></th>\n",
       "      <th></th>\n",
       "      <th></th>\n",
       "    </tr>\n",
       "  </thead>\n",
       "  <tbody>\n",
       "    <tr>\n",
       "      <th>Washington Times</th>\n",
       "      <th>right</th>\n",
       "      <td>80</td>\n",
       "      <td>52.5</td>\n",
       "      <td>23.8</td>\n",
       "      <td>31.2</td>\n",
       "    </tr>\n",
       "    <tr>\n",
       "      <th>Breitbart</th>\n",
       "      <th>right</th>\n",
       "      <td>72</td>\n",
       "      <td>76.4</td>\n",
       "      <td>13.9</td>\n",
       "      <td>11.1</td>\n",
       "    </tr>\n",
       "    <tr>\n",
       "      <th>FOX News</th>\n",
       "      <th>right</th>\n",
       "      <td>41</td>\n",
       "      <td>48.8</td>\n",
       "      <td>24.4</td>\n",
       "      <td>26.8</td>\n",
       "    </tr>\n",
       "    <tr>\n",
       "      <th>Daily Caller</th>\n",
       "      <th>right</th>\n",
       "      <td>40</td>\n",
       "      <td>50.0</td>\n",
       "      <td>10.0</td>\n",
       "      <td>32.5</td>\n",
       "    </tr>\n",
       "    <tr>\n",
       "      <th>National Review</th>\n",
       "      <th>right</th>\n",
       "      <td>19</td>\n",
       "      <td>31.6</td>\n",
       "      <td>36.8</td>\n",
       "      <td>26.3</td>\n",
       "    </tr>\n",
       "    <tr>\n",
       "      <th>NY Post</th>\n",
       "      <th>right</th>\n",
       "      <td>17</td>\n",
       "      <td>47.1</td>\n",
       "      <td>NaN</td>\n",
       "      <td>35.3</td>\n",
       "    </tr>\n",
       "    <tr>\n",
       "      <th>NewsMax</th>\n",
       "      <th>right</th>\n",
       "      <td>17</td>\n",
       "      <td>47.1</td>\n",
       "      <td>35.3</td>\n",
       "      <td>23.5</td>\n",
       "    </tr>\n",
       "    <tr>\n",
       "      <th>The Blaze</th>\n",
       "      <th>right</th>\n",
       "      <td>8</td>\n",
       "      <td>75.0</td>\n",
       "      <td>NaN</td>\n",
       "      <td>NaN</td>\n",
       "    </tr>\n",
       "    <tr>\n",
       "      <th>thefederalist.com</th>\n",
       "      <th>right</th>\n",
       "      <td>3</td>\n",
       "      <td>66.7</td>\n",
       "      <td>33.3</td>\n",
       "      <td>NaN</td>\n",
       "    </tr>\n",
       "    <tr>\n",
       "      <th>The American Spectator</th>\n",
       "      <th>right</th>\n",
       "      <td>1</td>\n",
       "      <td>NaN</td>\n",
       "      <td>100.0</td>\n",
       "      <td>NaN</td>\n",
       "    </tr>\n",
       "    <tr>\n",
       "      <th>Huffington Post</th>\n",
       "      <th>left</th>\n",
       "      <td>72</td>\n",
       "      <td>66.7</td>\n",
       "      <td>12.5</td>\n",
       "      <td>25.0</td>\n",
       "    </tr>\n",
       "    <tr>\n",
       "      <th>New York Times</th>\n",
       "      <th>left</th>\n",
       "      <td>54</td>\n",
       "      <td>27.8</td>\n",
       "      <td>7.4</td>\n",
       "      <td>11.1</td>\n",
       "    </tr>\n",
       "    <tr>\n",
       "      <th>LA Times</th>\n",
       "      <th>left</th>\n",
       "      <td>53</td>\n",
       "      <td>71.7</td>\n",
       "      <td>17.0</td>\n",
       "      <td>20.8</td>\n",
       "    </tr>\n",
       "    <tr>\n",
       "      <th>CNN</th>\n",
       "      <th>left</th>\n",
       "      <td>44</td>\n",
       "      <td>45.5</td>\n",
       "      <td>9.1</td>\n",
       "      <td>27.3</td>\n",
       "    </tr>\n",
       "    <tr>\n",
       "      <th>cbs news</th>\n",
       "      <th>left</th>\n",
       "      <td>34</td>\n",
       "      <td>70.6</td>\n",
       "      <td>23.5</td>\n",
       "      <td>35.3</td>\n",
       "    </tr>\n",
       "    <tr>\n",
       "      <th>ABC News</th>\n",
       "      <th>left</th>\n",
       "      <td>29</td>\n",
       "      <td>69.0</td>\n",
       "      <td>24.1</td>\n",
       "      <td>20.7</td>\n",
       "    </tr>\n",
       "    <tr>\n",
       "      <th>NBC News</th>\n",
       "      <th>left</th>\n",
       "      <td>25</td>\n",
       "      <td>72.0</td>\n",
       "      <td>20.0</td>\n",
       "      <td>24.0</td>\n",
       "    </tr>\n",
       "    <tr>\n",
       "      <th>Alternet</th>\n",
       "      <th>left</th>\n",
       "      <td>16</td>\n",
       "      <td>68.8</td>\n",
       "      <td>12.5</td>\n",
       "      <td>25.0</td>\n",
       "    </tr>\n",
       "    <tr>\n",
       "      <th>Buzzfeed</th>\n",
       "      <th>left</th>\n",
       "      <td>11</td>\n",
       "      <td>72.7</td>\n",
       "      <td>9.1</td>\n",
       "      <td>NaN</td>\n",
       "    </tr>\n",
       "    <tr>\n",
       "      <th>New Yorker</th>\n",
       "      <th>left</th>\n",
       "      <td>10</td>\n",
       "      <td>70.0</td>\n",
       "      <td>NaN</td>\n",
       "      <td>20.0</td>\n",
       "    </tr>\n",
       "    <tr>\n",
       "      <th>Politico</th>\n",
       "      <th>center</th>\n",
       "      <td>38</td>\n",
       "      <td>63.2</td>\n",
       "      <td>26.3</td>\n",
       "      <td>21.1</td>\n",
       "    </tr>\n",
       "    <tr>\n",
       "      <th>USA Today</th>\n",
       "      <th>center</th>\n",
       "      <td>35</td>\n",
       "      <td>57.1</td>\n",
       "      <td>11.4</td>\n",
       "      <td>31.4</td>\n",
       "    </tr>\n",
       "    <tr>\n",
       "      <th>Business Insider</th>\n",
       "      <th>center</th>\n",
       "      <td>19</td>\n",
       "      <td>52.6</td>\n",
       "      <td>26.3</td>\n",
       "      <td>10.5</td>\n",
       "    </tr>\n",
       "    <tr>\n",
       "      <th>Chicago Tribune</th>\n",
       "      <th>center</th>\n",
       "      <td>16</td>\n",
       "      <td>12.5</td>\n",
       "      <td>6.2</td>\n",
       "      <td>6.2</td>\n",
       "    </tr>\n",
       "    <tr>\n",
       "      <th>The Hill</th>\n",
       "      <th>center</th>\n",
       "      <td>14</td>\n",
       "      <td>78.6</td>\n",
       "      <td>14.3</td>\n",
       "      <td>50.0</td>\n",
       "    </tr>\n",
       "    <tr>\n",
       "      <th>Wall Street Journal</th>\n",
       "      <th>center</th>\n",
       "      <td>14</td>\n",
       "      <td>28.6</td>\n",
       "      <td>14.3</td>\n",
       "      <td>21.4</td>\n",
       "    </tr>\n",
       "    <tr>\n",
       "      <th>Reuters</th>\n",
       "      <th>center</th>\n",
       "      <td>10</td>\n",
       "      <td>50.0</td>\n",
       "      <td>40.0</td>\n",
       "      <td>50.0</td>\n",
       "    </tr>\n",
       "    <tr>\n",
       "      <th>Dallas Morning News</th>\n",
       "      <th>center</th>\n",
       "      <td>6</td>\n",
       "      <td>66.7</td>\n",
       "      <td>50.0</td>\n",
       "      <td>33.3</td>\n",
       "    </tr>\n",
       "    <tr>\n",
       "      <th>CNBC</th>\n",
       "      <th>center</th>\n",
       "      <td>3</td>\n",
       "      <td>33.3</td>\n",
       "      <td>NaN</td>\n",
       "      <td>33.3</td>\n",
       "    </tr>\n",
       "  </tbody>\n",
       "</table>\n",
       "</div>"
      ],
      "text/plain": [
       "                                   Total  Gun Control  Gun Rights  Gun Laws\n",
       "media_name             mix_rating                                          \n",
       "Washington Times       right          80         52.5        23.8      31.2\n",
       "Breitbart              right          72         76.4        13.9      11.1\n",
       "FOX News               right          41         48.8        24.4      26.8\n",
       "Daily Caller           right          40         50.0        10.0      32.5\n",
       "National Review        right          19         31.6        36.8      26.3\n",
       "NY Post                right          17         47.1         NaN      35.3\n",
       "NewsMax                right          17         47.1        35.3      23.5\n",
       "The Blaze              right           8         75.0         NaN       NaN\n",
       "thefederalist.com      right           3         66.7        33.3       NaN\n",
       "The American Spectator right           1          NaN       100.0       NaN\n",
       "Huffington Post        left           72         66.7        12.5      25.0\n",
       "New York Times         left           54         27.8         7.4      11.1\n",
       "LA Times               left           53         71.7        17.0      20.8\n",
       "CNN                    left           44         45.5         9.1      27.3\n",
       "cbs news               left           34         70.6        23.5      35.3\n",
       "ABC News               left           29         69.0        24.1      20.7\n",
       "NBC News               left           25         72.0        20.0      24.0\n",
       "Alternet               left           16         68.8        12.5      25.0\n",
       "Buzzfeed               left           11         72.7         9.1       NaN\n",
       "New Yorker             left           10         70.0         NaN      20.0\n",
       "Politico               center         38         63.2        26.3      21.1\n",
       "USA Today              center         35         57.1        11.4      31.4\n",
       "Business Insider       center         19         52.6        26.3      10.5\n",
       "Chicago Tribune        center         16         12.5         6.2       6.2\n",
       "The Hill               center         14         78.6        14.3      50.0\n",
       "Wall Street Journal    center         14         28.6        14.3      21.4\n",
       "Reuters                center         10         50.0        40.0      50.0\n",
       "Dallas Morning News    center          6         66.7        50.0      33.3\n",
       "CNBC                   center          3         33.3         NaN      33.3"
      ]
     },
     "execution_count": 25,
     "metadata": {},
     "output_type": "execute_result"
    }
   ],
   "source": [
    "# check with which string the articles matched\n",
    "gun_control_art = df[(df.text.str.contains('gun control')) & (df.media_name != 'Forbes')].groupby(['media_name', 'mix_rating'])[['title']].count().sort_values(by='mix_rating')\n",
    "gun_rights_art = df[(df.text.str.contains('gun rights')) & (df.media_name != 'Forbes')].groupby(['media_name', 'mix_rating'])[['title']].count()\n",
    "gun_laws_art = df[(df.text.str.contains('gun laws')) & (df.media_name != 'Forbes')].groupby(['media_name', 'mix_rating'])[['title']].count()\n",
    "all_art = df[(df.media_name != 'Forbes')].groupby(['media_name', 'mix_rating'])[['title']].count()\n",
    "\n",
    "mediacloud_match_string = pd.concat([all_art, gun_control_art, gun_rights_art, gun_laws_art], axis=1)\n",
    "mediacloud_match_string.columns = ['Total', 'Gun Control', 'Gun Rights', 'Gun Laws']\n",
    "mediacloud_match_string['Gun Control'] = round((mediacloud_match_string['Gun Control'] / mediacloud_match_string['Total']) * 100,1)\n",
    "mediacloud_match_string['Gun Rights'] = round((mediacloud_match_string['Gun Rights'] / mediacloud_match_string['Total']) * 100,1)\n",
    "mediacloud_match_string['Gun Laws'] = round((mediacloud_match_string['Gun Laws'] / mediacloud_match_string['Total']) * 100,1)\n",
    "\n",
    "mediacloud_match_string = mediacloud_match_string.sort_values(by=['mix_rating', 'Total'], ascending=False)\n",
    "mediacloud_match_string"
   ]
  },
  {
   "cell_type": "code",
   "execution_count": 16,
   "metadata": {
    "code_folding": [
     0,
     1
    ]
   },
   "outputs": [],
   "source": [
    "# no of words per article\n",
    "def WordCounter(text):\n",
    "    return len(text.split(' '))\n",
    "\n",
    "df['no_words'] = df.text.apply(lambda x: WordCounter(x))"
   ]
  },
  {
   "cell_type": "code",
   "execution_count": 21,
   "metadata": {
    "code_folding": [
     0
    ]
   },
   "outputs": [
    {
     "data": {
      "image/png": "[encoded data removed]",
      "text/plain": [
       "<Figure size 864x360 with 3 Axes>"
      ]
     },
     "metadata": {
      "needs_background": "light"
     },
     "output_type": "display_data"
    }
   ],
   "source": [
    "# number of articles per medium\n",
    "left_media = df[df.mix_rating == 'left'].groupby('media_name')[['title', 'mix_rating', 'no_words']].agg({'title': 'count', 'mix_rating': 'count', 'no_words': 'mean'}).sort_values('title', ascending=False)\n",
    "center_media = df[(df.mix_rating == 'center') & (df.media_name != 'Forbes')].groupby('media_name')[['title', 'mix_rating', 'no_words']].agg({'title': 'count', 'mix_rating': 'count', 'no_words': 'mean'}).sort_values('title', ascending=False)\n",
    "right_media = df[df.mix_rating == 'right'].groupby('media_name')[['title', 'mix_rating', 'no_words']].agg({'title': 'count', 'mix_rating': 'count', 'no_words': 'mean'}).sort_values('title', ascending=False)\n",
    "\n",
    "fig, ax = plt.subplots(nrows=1, ncols=3, figsize=(12, 5))\n",
    "colors=['cornflowerblue', 'lightgrey', 'lightcoral']\n",
    "\n",
    "ax[0].bar(left_media.index, left_media.title, color=colors[0])\n",
    "ax[0].set_xticklabels(left_media.index, rotation=45, ha='right')\n",
    "ax[0].set_ylim([0,5100])\n",
    "ax[0].grid(b=True, axis='y', which='major', color='grey', linestyle='dotted')\n",
    "\n",
    "#ax0 = ax[0].twinx()\n",
    "#ax0.plot(left_media.no_words, color='grey')\n",
    "#ax0.set_ylim([0,2000])\n",
    "\n",
    "left_total = 'Total: ' + str(sum(left_media.title))\n",
    "ax[0].text(0.5, 0.68, left_total, horizontalalignment='center',\n",
    "           verticalalignment='center', transform=ax[0].transAxes)\n",
    "\n",
    "ax[1].bar(center_media.index, center_media.title, color=colors[1])\n",
    "ax[1].set_xticklabels(center_media.index, rotation=45, ha='right')\n",
    "ax[1].set_ylim([0,5100])\n",
    "ax[1].grid(b=True, axis='y', which='major', color='grey', linestyle='dotted')\n",
    "\n",
    "#ax1 = ax[1].twinx()\n",
    "#ax1.plot(center_media.no_words, color='grey')\n",
    "#ax1.set_ylim([0,2000])\n",
    "\n",
    "center_total = 'Total: ' + str(sum(center_media.title))\n",
    "ax[1].text(0.5, 0.68, center_total, horizontalalignment='center',\n",
    "           verticalalignment='center', transform=ax[1].transAxes)\n",
    "\n",
    "\n",
    "ax[2].bar(right_media.index, right_media.title, color=colors[2])\n",
    "ax[2].set_xticklabels(right_media.index, rotation=45, ha='right')\n",
    "ax[2].set_ylim([0,5100])\n",
    "ax[2].grid(b=True, axis='y', which='major', color='grey', linestyle='dotted')\n",
    "\n",
    "#ax2 = ax[2].twinx()\n",
    "#ax2.plot(right_media.no_words, color='grey')\n",
    "#ax2.set_ylim([0,2000])\n",
    "\n",
    "right_total = 'Total: ' + str(sum(right_media.title))\n",
    "ax[2].text(0.5, 0.68, right_total, horizontalalignment='center',\n",
    "           verticalalignment='center', transform=ax[2].transAxes)\n",
    "\n",
    "fig.tight_layout()\n",
    "plt.savefig('Graphs/number_articles.png')"
   ]
  },
  {
   "cell_type": "markdown",
   "metadata": {},
   "source": [
    "## NER"
   ]
  },
  {
   "cell_type": "code",
   "execution_count": 113,
   "metadata": {
    "code_folding": [
     0,
     1
    ]
   },
   "outputs": [],
   "source": [
    "# fullname matcher\n",
    "def FullnameMatcher(name, people):\n",
    "    matches = {}\n",
    "    person_len = len(name.split(' '))\n",
    "    if person_len == 1:     \n",
    "        #print('SHORT: ' + name)\n",
    "        for person2 in people.keys():\n",
    "\n",
    "            person2_len = len(person2.split(' '))        \n",
    "\n",
    "            if person_len < person2_len:\n",
    "\n",
    "                if fuzz.ratio(name, person2) > 60:\n",
    "                    # print('MATCH WITH: ' + person2)\n",
    "                    matches[person2] = people.get(person2)\n",
    "\n",
    "        try:\n",
    "            name = max(matches.items(), key=operator.itemgetter(1))[0]\n",
    "        except ValueError as E:\n",
    "            name = name\n",
    "    return name"
   ]
  },
  {
   "cell_type": "code",
   "execution_count": 114,
   "metadata": {
    "code_folding": [
     0
    ]
   },
   "outputs": [],
   "source": [
    "# function to identify people in article\n",
    "def NERPeople(text):\n",
    "    people = {}\n",
    "    for ent in eng(text).ents:\n",
    "        if ent.label_ == 'PERSON':\n",
    "            # clean the name string\n",
    "            person = str(ent).replace(\"'s\", '').encode(\"ascii\", \"ignore\").decode()\n",
    "            person = FullnameMatcher(person, people)\n",
    "            \n",
    "            people[person] = people.get(person, 0) + 1           \n",
    "\n",
    "    return people"
   ]
  },
  {
   "cell_type": "code",
   "execution_count": 123,
   "metadata": {},
   "outputs": [
    {
     "data": {
      "text/plain": [
       "43627"
      ]
     },
     "execution_count": 123,
     "metadata": {},
     "output_type": "execute_result"
    }
   ],
   "source": [
    "chunks = np.array_split(df, 100)"
   ]
  },
  {
   "cell_type": "code",
   "execution_count": 126,
   "metadata": {
    "code_folding": [
     0
    ],
    "collapsed": true
   },
   "outputs": [
    {
     "name": "stderr",
     "output_type": "stream",
     "text": [
      "\n",
      "\n",
      "\n",
      "\n",
      "\n",
      "0it [00:00, ?it/s]\u001b[A\u001b[A\u001b[A\u001b[A\u001b[A"
     ]
    },
    {
     "name": "stdout",
     "output_type": "stream",
     "text": [
      "Processing chunk 1\n"
     ]
    },
    {
     "name": "stderr",
     "output_type": "stream",
     "text": [
      "\n",
      "\n",
      "\n",
      "\n",
      "\n",
      "1it [00:44, 44.54s/it]\u001b[A\u001b[A\u001b[A\u001b[A\u001b[A"
     ]
    },
    {
     "name": "stdout",
     "output_type": "stream",
     "text": [
      "Processing chunk 2\n"
     ]
    },
    {
     "name": "stderr",
     "output_type": "stream",
     "text": [
      "\n",
      "\n",
      "\n",
      "\n",
      "\n",
      "2it [01:12, 39.43s/it]\u001b[A\u001b[A\u001b[A\u001b[A\u001b[A"
     ]
    },
    {
     "name": "stdout",
     "output_type": "stream",
     "text": [
      "Processing chunk 3\n"
     ]
    },
    {
     "name": "stderr",
     "output_type": "stream",
     "text": [
      "\n",
      "\n",
      "\n",
      "\n",
      "\n",
      "3it [01:43, 36.90s/it]\u001b[A\u001b[A\u001b[A\u001b[A\u001b[A"
     ]
    },
    {
     "name": "stdout",
     "output_type": "stream",
     "text": [
      "Processing chunk 4\n"
     ]
    },
    {
     "name": "stderr",
     "output_type": "stream",
     "text": [
      "\n",
      "\n",
      "\n",
      "\n",
      "\n",
      "4it [02:13, 34.93s/it]\u001b[A\u001b[A\u001b[A\u001b[A\u001b[A"
     ]
    },
    {
     "name": "stdout",
     "output_type": "stream",
     "text": [
      "Processing chunk 5\n"
     ]
    },
    {
     "name": "stderr",
     "output_type": "stream",
     "text": [
      "\n",
      "\n",
      "\n",
      "\n",
      "\n",
      "5it [02:50, 35.50s/it]\u001b[A\u001b[A\u001b[A\u001b[A\u001b[A"
     ]
    },
    {
     "name": "stdout",
     "output_type": "stream",
     "text": [
      "Processing chunk 6\n"
     ]
    },
    {
     "name": "stderr",
     "output_type": "stream",
     "text": [
      "\n",
      "\n",
      "\n",
      "\n",
      "\n",
      "6it [03:23, 34.84s/it]\u001b[A\u001b[A\u001b[A\u001b[A\u001b[A"
     ]
    },
    {
     "name": "stdout",
     "output_type": "stream",
     "text": [
      "Processing chunk 7\n"
     ]
    },
    {
     "name": "stderr",
     "output_type": "stream",
     "text": [
      "\n",
      "\n",
      "\n",
      "\n",
      "\n",
      "7it [03:56, 34.42s/it]\u001b[A\u001b[A\u001b[A\u001b[A\u001b[A"
     ]
    },
    {
     "name": "stdout",
     "output_type": "stream",
     "text": [
      "Processing chunk 8\n"
     ]
    },
    {
     "name": "stderr",
     "output_type": "stream",
     "text": [
      "\n",
      "\n",
      "\n",
      "\n",
      "\n",
      "8it [04:30, 34.11s/it]\u001b[A\u001b[A\u001b[A\u001b[A\u001b[A"
     ]
    },
    {
     "name": "stdout",
     "output_type": "stream",
     "text": [
      "Processing chunk 9\n"
     ]
    },
    {
     "name": "stderr",
     "output_type": "stream",
     "text": [
      "\n",
      "\n",
      "\n",
      "\n",
      "\n",
      "9it [05:05, 34.40s/it]\u001b[A\u001b[A\u001b[A\u001b[A\u001b[A"
     ]
    },
    {
     "name": "stdout",
     "output_type": "stream",
     "text": [
      "Processing chunk 10\n"
     ]
    },
    {
     "name": "stderr",
     "output_type": "stream",
     "text": [
      "\n",
      "\n",
      "\n",
      "\n",
      "\n",
      "10it [05:33, 32.57s/it]\u001b[A\u001b[A\u001b[A\u001b[A\u001b[A"
     ]
    },
    {
     "name": "stdout",
     "output_type": "stream",
     "text": [
      "Processing chunk 11\n"
     ]
    },
    {
     "name": "stderr",
     "output_type": "stream",
     "text": [
      "\n",
      "\n",
      "\n",
      "\n",
      "\n",
      "11it [06:10, 33.81s/it]\u001b[A\u001b[A\u001b[A\u001b[A\u001b[A"
     ]
    },
    {
     "name": "stdout",
     "output_type": "stream",
     "text": [
      "Processing chunk 12\n"
     ]
    },
    {
     "name": "stderr",
     "output_type": "stream",
     "text": [
      "\n",
      "\n",
      "\n",
      "\n",
      "\n",
      "12it [06:46, 34.64s/it]\u001b[A\u001b[A\u001b[A\u001b[A\u001b[A"
     ]
    },
    {
     "name": "stdout",
     "output_type": "stream",
     "text": [
      "Processing chunk 13\n"
     ]
    },
    {
     "name": "stderr",
     "output_type": "stream",
     "text": [
      "\n",
      "\n",
      "\n",
      "\n",
      "\n",
      "13it [07:23, 35.20s/it]\u001b[A\u001b[A\u001b[A\u001b[A\u001b[A"
     ]
    },
    {
     "name": "stdout",
     "output_type": "stream",
     "text": [
      "Processing chunk 14\n"
     ]
    },
    {
     "name": "stderr",
     "output_type": "stream",
     "text": [
      "\n",
      "\n",
      "\n",
      "\n",
      "\n",
      "14it [08:00, 35.76s/it]\u001b[A\u001b[A\u001b[A\u001b[A\u001b[A"
     ]
    },
    {
     "name": "stdout",
     "output_type": "stream",
     "text": [
      "Processing chunk 15\n"
     ]
    },
    {
     "name": "stderr",
     "output_type": "stream",
     "text": [
      "\n",
      "\n",
      "\n",
      "\n",
      "\n",
      "15it [08:40, 36.92s/it]\u001b[A\u001b[A\u001b[A\u001b[A\u001b[A"
     ]
    },
    {
     "name": "stdout",
     "output_type": "stream",
     "text": [
      "Processing chunk 16\n"
     ]
    },
    {
     "name": "stderr",
     "output_type": "stream",
     "text": [
      "\n",
      "\n",
      "\n",
      "\n",
      "\n",
      "16it [09:18, 37.21s/it]\u001b[A\u001b[A\u001b[A\u001b[A\u001b[A"
     ]
    },
    {
     "name": "stdout",
     "output_type": "stream",
     "text": [
      "Processing chunk 17\n"
     ]
    },
    {
     "name": "stderr",
     "output_type": "stream",
     "text": [
      "\n",
      "\n",
      "\n",
      "\n",
      "\n",
      "17it [09:54, 36.97s/it]\u001b[A\u001b[A\u001b[A\u001b[A\u001b[A"
     ]
    },
    {
     "name": "stdout",
     "output_type": "stream",
     "text": [
      "Processing chunk 18\n"
     ]
    },
    {
     "name": "stderr",
     "output_type": "stream",
     "text": [
      "\n",
      "\n",
      "\n",
      "\n",
      "\n",
      "18it [10:27, 35.81s/it]\u001b[A\u001b[A\u001b[A\u001b[A\u001b[A"
     ]
    },
    {
     "name": "stdout",
     "output_type": "stream",
     "text": [
      "Processing chunk 19\n"
     ]
    },
    {
     "name": "stderr",
     "output_type": "stream",
     "text": [
      "\n",
      "\n",
      "\n",
      "\n",
      "\n",
      "19it [11:02, 35.68s/it]\u001b[A\u001b[A\u001b[A\u001b[A\u001b[A"
     ]
    },
    {
     "name": "stdout",
     "output_type": "stream",
     "text": [
      "Processing chunk 20\n"
     ]
    },
    {
     "name": "stderr",
     "output_type": "stream",
     "text": [
      "\n",
      "\n",
      "\n",
      "\n",
      "\n",
      "20it [11:45, 37.65s/it]\u001b[A\u001b[A\u001b[A\u001b[A\u001b[A"
     ]
    },
    {
     "name": "stdout",
     "output_type": "stream",
     "text": [
      "Processing chunk 21\n"
     ]
    },
    {
     "name": "stderr",
     "output_type": "stream",
     "text": [
      "\n",
      "\n",
      "\n",
      "\n",
      "\n",
      "21it [12:22, 37.67s/it]\u001b[A\u001b[A\u001b[A\u001b[A\u001b[A"
     ]
    },
    {
     "name": "stdout",
     "output_type": "stream",
     "text": [
      "Processing chunk 22\n"
     ]
    },
    {
     "name": "stderr",
     "output_type": "stream",
     "text": [
      "\n",
      "\n",
      "\n",
      "\n",
      "\n",
      "22it [13:01, 37.98s/it]\u001b[A\u001b[A\u001b[A\u001b[A\u001b[A"
     ]
    },
    {
     "name": "stdout",
     "output_type": "stream",
     "text": [
      "Processing chunk 23\n"
     ]
    },
    {
     "name": "stderr",
     "output_type": "stream",
     "text": [
      "\n",
      "\n",
      "\n",
      "\n",
      "\n",
      "23it [13:41, 38.55s/it]\u001b[A\u001b[A\u001b[A\u001b[A\u001b[A"
     ]
    },
    {
     "name": "stdout",
     "output_type": "stream",
     "text": [
      "Processing chunk 24\n"
     ]
    },
    {
     "name": "stderr",
     "output_type": "stream",
     "text": [
      "\n",
      "\n",
      "\n",
      "\n",
      "\n",
      "24it [14:24, 39.81s/it]\u001b[A\u001b[A\u001b[A\u001b[A\u001b[A"
     ]
    },
    {
     "name": "stdout",
     "output_type": "stream",
     "text": [
      "Processing chunk 25\n"
     ]
    },
    {
     "name": "stderr",
     "output_type": "stream",
     "text": [
      "\n",
      "\n",
      "\n",
      "\n",
      "\n",
      "25it [14:56, 37.47s/it]\u001b[A\u001b[A\u001b[A\u001b[A\u001b[A"
     ]
    },
    {
     "name": "stdout",
     "output_type": "stream",
     "text": [
      "Processing chunk 26\n"
     ]
    },
    {
     "name": "stderr",
     "output_type": "stream",
     "text": [
      "\n",
      "\n",
      "\n",
      "\n",
      "\n",
      "26it [15:38, 38.84s/it]\u001b[A\u001b[A\u001b[A\u001b[A\u001b[A"
     ]
    },
    {
     "name": "stdout",
     "output_type": "stream",
     "text": [
      "Processing chunk 27\n"
     ]
    },
    {
     "name": "stderr",
     "output_type": "stream",
     "text": [
      "\n",
      "\n",
      "\n",
      "\n",
      "\n",
      "27it [16:22, 40.35s/it]\u001b[A\u001b[A\u001b[A\u001b[A\u001b[A"
     ]
    },
    {
     "name": "stdout",
     "output_type": "stream",
     "text": [
      "Processing chunk 28\n"
     ]
    },
    {
     "name": "stderr",
     "output_type": "stream",
     "text": [
      "\n",
      "\n",
      "\n",
      "\n",
      "\n",
      "28it [17:02, 40.45s/it]\u001b[A\u001b[A\u001b[A\u001b[A\u001b[A"
     ]
    },
    {
     "name": "stdout",
     "output_type": "stream",
     "text": [
      "Processing chunk 29\n"
     ]
    },
    {
     "name": "stderr",
     "output_type": "stream",
     "text": [
      "\n",
      "\n",
      "\n",
      "\n",
      "\n",
      "29it [17:55, 44.13s/it]\u001b[A\u001b[A\u001b[A\u001b[A\u001b[A"
     ]
    },
    {
     "name": "stdout",
     "output_type": "stream",
     "text": [
      "Processing chunk 30\n"
     ]
    },
    {
     "name": "stderr",
     "output_type": "stream",
     "text": [
      "\n",
      "\n",
      "\n",
      "\n",
      "\n",
      "30it [18:38, 43.74s/it]\u001b[A\u001b[A\u001b[A\u001b[A\u001b[A"
     ]
    },
    {
     "name": "stdout",
     "output_type": "stream",
     "text": [
      "Processing chunk 31\n"
     ]
    },
    {
     "name": "stderr",
     "output_type": "stream",
     "text": [
      "\n",
      "\n",
      "\n",
      "\n",
      "\n",
      "31it [19:17, 42.47s/it]\u001b[A\u001b[A\u001b[A\u001b[A\u001b[A"
     ]
    },
    {
     "name": "stdout",
     "output_type": "stream",
     "text": [
      "Processing chunk 32\n"
     ]
    },
    {
     "name": "stderr",
     "output_type": "stream",
     "text": [
      "\n",
      "\n",
      "\n",
      "\n",
      "\n",
      "32it [19:53, 40.41s/it]\u001b[A\u001b[A\u001b[A\u001b[A\u001b[A"
     ]
    },
    {
     "name": "stdout",
     "output_type": "stream",
     "text": [
      "Processing chunk 33\n"
     ]
    },
    {
     "name": "stderr",
     "output_type": "stream",
     "text": [
      "\n",
      "\n",
      "\n",
      "\n",
      "\n",
      "33it [20:24, 37.65s/it]\u001b[A\u001b[A\u001b[A\u001b[A\u001b[A"
     ]
    },
    {
     "name": "stdout",
     "output_type": "stream",
     "text": [
      "Processing chunk 34\n"
     ]
    },
    {
     "name": "stderr",
     "output_type": "stream",
     "text": [
      "\n",
      "\n",
      "\n",
      "\n",
      "\n",
      "34it [21:10, 39.97s/it]\u001b[A\u001b[A\u001b[A\u001b[A\u001b[A"
     ]
    },
    {
     "name": "stdout",
     "output_type": "stream",
     "text": [
      "Processing chunk 35\n"
     ]
    },
    {
     "name": "stderr",
     "output_type": "stream",
     "text": [
      "\n",
      "\n",
      "\n",
      "\n",
      "\n",
      "35it [21:54, 41.26s/it]\u001b[A\u001b[A\u001b[A\u001b[A\u001b[A"
     ]
    },
    {
     "name": "stdout",
     "output_type": "stream",
     "text": [
      "Processing chunk 36\n"
     ]
    },
    {
     "name": "stderr",
     "output_type": "stream",
     "text": [
      "\n",
      "\n",
      "\n",
      "\n",
      "\n",
      "36it [22:23, 37.77s/it]\u001b[A\u001b[A\u001b[A\u001b[A\u001b[A"
     ]
    },
    {
     "name": "stdout",
     "output_type": "stream",
     "text": [
      "Processing chunk 37\n"
     ]
    },
    {
     "name": "stderr",
     "output_type": "stream",
     "text": [
      "\n",
      "\n",
      "\n",
      "\n",
      "\n",
      "37it [22:57, 36.44s/it]\u001b[A\u001b[A\u001b[A\u001b[A\u001b[A"
     ]
    },
    {
     "name": "stdout",
     "output_type": "stream",
     "text": [
      "Processing chunk 38\n"
     ]
    },
    {
     "name": "stderr",
     "output_type": "stream",
     "text": [
      "\n",
      "\n",
      "\n",
      "\n",
      "\n",
      "38it [23:39, 38.24s/it]\u001b[A\u001b[A\u001b[A\u001b[A\u001b[A"
     ]
    },
    {
     "name": "stdout",
     "output_type": "stream",
     "text": [
      "Processing chunk 39\n"
     ]
    },
    {
     "name": "stderr",
     "output_type": "stream",
     "text": [
      "\n",
      "\n",
      "\n",
      "\n",
      "\n",
      "39it [24:16, 37.65s/it]\u001b[A\u001b[A\u001b[A\u001b[A\u001b[A"
     ]
    },
    {
     "name": "stdout",
     "output_type": "stream",
     "text": [
      "Processing chunk 40\n"
     ]
    },
    {
     "name": "stderr",
     "output_type": "stream",
     "text": [
      "\n",
      "\n",
      "\n",
      "\n",
      "\n",
      "40it [24:55, 38.07s/it]\u001b[A\u001b[A\u001b[A\u001b[A\u001b[A"
     ]
    },
    {
     "name": "stdout",
     "output_type": "stream",
     "text": [
      "Processing chunk 41\n"
     ]
    },
    {
     "name": "stderr",
     "output_type": "stream",
     "text": [
      "\n",
      "\n",
      "\n",
      "\n",
      "\n",
      "41it [25:42, 40.96s/it]\u001b[A\u001b[A\u001b[A\u001b[A\u001b[A"
     ]
    },
    {
     "name": "stdout",
     "output_type": "stream",
     "text": [
      "Processing chunk 42\n"
     ]
    },
    {
     "name": "stderr",
     "output_type": "stream",
     "text": [
      "\n",
      "\n",
      "\n",
      "\n",
      "\n",
      "42it [26:28, 42.47s/it]\u001b[A\u001b[A\u001b[A\u001b[A\u001b[A"
     ]
    },
    {
     "name": "stdout",
     "output_type": "stream",
     "text": [
      "Processing chunk 43\n"
     ]
    },
    {
     "name": "stderr",
     "output_type": "stream",
     "text": [
      "\n",
      "\n",
      "\n",
      "\n",
      "\n",
      "43it [27:07, 41.26s/it]\u001b[A\u001b[A\u001b[A\u001b[A\u001b[A"
     ]
    },
    {
     "name": "stdout",
     "output_type": "stream",
     "text": [
      "Processing chunk 44\n"
     ]
    },
    {
     "name": "stderr",
     "output_type": "stream",
     "text": [
      "\n",
      "\n",
      "\n",
      "\n",
      "\n",
      "44it [27:41, 39.20s/it]\u001b[A\u001b[A\u001b[A\u001b[A\u001b[A"
     ]
    },
    {
     "name": "stdout",
     "output_type": "stream",
     "text": [
      "Processing chunk 45\n"
     ]
    },
    {
     "name": "stderr",
     "output_type": "stream",
     "text": [
      "\n",
      "\n",
      "\n",
      "\n",
      "\n",
      "45it [28:23, 39.99s/it]\u001b[A\u001b[A\u001b[A\u001b[A\u001b[A"
     ]
    },
    {
     "name": "stdout",
     "output_type": "stream",
     "text": [
      "Processing chunk 46\n"
     ]
    },
    {
     "name": "stderr",
     "output_type": "stream",
     "text": [
      "\n",
      "\n",
      "\n",
      "\n",
      "\n",
      "46it [29:05, 40.49s/it]\u001b[A\u001b[A\u001b[A\u001b[A\u001b[A"
     ]
    },
    {
     "name": "stdout",
     "output_type": "stream",
     "text": [
      "Processing chunk 47\n"
     ]
    },
    {
     "name": "stderr",
     "output_type": "stream",
     "text": [
      "\n",
      "\n",
      "\n",
      "\n",
      "\n",
      "47it [29:46, 40.79s/it]\u001b[A\u001b[A\u001b[A\u001b[A\u001b[A"
     ]
    },
    {
     "name": "stdout",
     "output_type": "stream",
     "text": [
      "Processing chunk 48\n"
     ]
    },
    {
     "name": "stderr",
     "output_type": "stream",
     "text": [
      "\n",
      "\n",
      "\n",
      "\n",
      "\n",
      "48it [30:32, 42.23s/it]\u001b[A\u001b[A\u001b[A\u001b[A\u001b[A"
     ]
    },
    {
     "name": "stdout",
     "output_type": "stream",
     "text": [
      "Processing chunk 49\n"
     ]
    },
    {
     "name": "stderr",
     "output_type": "stream",
     "text": [
      "\n",
      "\n",
      "\n",
      "\n",
      "\n",
      "49it [31:17, 43.24s/it]\u001b[A\u001b[A\u001b[A\u001b[A\u001b[A"
     ]
    },
    {
     "name": "stdout",
     "output_type": "stream",
     "text": [
      "Processing chunk 50\n"
     ]
    },
    {
     "name": "stderr",
     "output_type": "stream",
     "text": [
      "\n",
      "\n",
      "\n",
      "\n",
      "\n",
      "50it [31:53, 40.92s/it]\u001b[A\u001b[A\u001b[A\u001b[A\u001b[A"
     ]
    },
    {
     "name": "stdout",
     "output_type": "stream",
     "text": [
      "Processing chunk 51\n"
     ]
    },
    {
     "name": "stderr",
     "output_type": "stream",
     "text": [
      "\n",
      "\n",
      "\n",
      "\n",
      "\n",
      "51it [32:26, 38.75s/it]\u001b[A\u001b[A\u001b[A\u001b[A\u001b[A"
     ]
    },
    {
     "name": "stdout",
     "output_type": "stream",
     "text": [
      "Processing chunk 52\n"
     ]
    },
    {
     "name": "stderr",
     "output_type": "stream",
     "text": [
      "\n",
      "\n",
      "\n",
      "\n",
      "\n",
      "52it [33:12, 40.93s/it]\u001b[A\u001b[A\u001b[A\u001b[A\u001b[A"
     ]
    },
    {
     "name": "stdout",
     "output_type": "stream",
     "text": [
      "Processing chunk 53\n"
     ]
    },
    {
     "name": "stderr",
     "output_type": "stream",
     "text": [
      "\n",
      "\n",
      "\n",
      "\n",
      "\n",
      "53it [33:56, 41.71s/it]\u001b[A\u001b[A\u001b[A\u001b[A\u001b[A"
     ]
    },
    {
     "name": "stdout",
     "output_type": "stream",
     "text": [
      "Processing chunk 54\n"
     ]
    },
    {
     "name": "stderr",
     "output_type": "stream",
     "text": [
      "\n",
      "\n",
      "\n",
      "\n",
      "\n",
      "54it [34:37, 41.41s/it]\u001b[A\u001b[A\u001b[A\u001b[A\u001b[A"
     ]
    },
    {
     "name": "stdout",
     "output_type": "stream",
     "text": [
      "Processing chunk 55\n"
     ]
    },
    {
     "name": "stderr",
     "output_type": "stream",
     "text": [
      "\n",
      "\n",
      "\n",
      "\n",
      "\n",
      "55it [35:13, 39.87s/it]\u001b[A\u001b[A\u001b[A\u001b[A\u001b[A"
     ]
    },
    {
     "name": "stdout",
     "output_type": "stream",
     "text": [
      "Processing chunk 56\n"
     ]
    },
    {
     "name": "stderr",
     "output_type": "stream",
     "text": [
      "\n",
      "\n",
      "\n",
      "\n",
      "\n",
      "56it [35:49, 38.79s/it]\u001b[A\u001b[A\u001b[A\u001b[A\u001b[A"
     ]
    },
    {
     "name": "stdout",
     "output_type": "stream",
     "text": [
      "Processing chunk 57\n"
     ]
    },
    {
     "name": "stderr",
     "output_type": "stream",
     "text": [
      "\n",
      "\n",
      "\n",
      "\n",
      "\n",
      "57it [36:40, 42.34s/it]\u001b[A\u001b[A\u001b[A\u001b[A\u001b[A"
     ]
    },
    {
     "name": "stdout",
     "output_type": "stream",
     "text": [
      "Processing chunk 58\n"
     ]
    },
    {
     "name": "stderr",
     "output_type": "stream",
     "text": [
      "\n",
      "\n",
      "\n",
      "\n",
      "\n",
      "58it [37:25, 43.11s/it]\u001b[A\u001b[A\u001b[A\u001b[A\u001b[A"
     ]
    },
    {
     "name": "stdout",
     "output_type": "stream",
     "text": [
      "Processing chunk 59\n"
     ]
    },
    {
     "name": "stderr",
     "output_type": "stream",
     "text": [
      "\n",
      "\n",
      "\n",
      "\n",
      "\n",
      "59it [38:01, 41.02s/it]\u001b[A\u001b[A\u001b[A\u001b[A\u001b[A"
     ]
    },
    {
     "name": "stdout",
     "output_type": "stream",
     "text": [
      "Processing chunk 60\n"
     ]
    },
    {
     "name": "stderr",
     "output_type": "stream",
     "text": [
      "\n",
      "\n",
      "\n",
      "\n",
      "\n",
      "60it [38:42, 40.98s/it]\u001b[A\u001b[A\u001b[A\u001b[A\u001b[A"
     ]
    },
    {
     "name": "stdout",
     "output_type": "stream",
     "text": [
      "Processing chunk 61\n"
     ]
    },
    {
     "name": "stderr",
     "output_type": "stream",
     "text": [
      "\n",
      "\n",
      "\n",
      "\n",
      "\n",
      "61it [39:23, 41.00s/it]\u001b[A\u001b[A\u001b[A\u001b[A\u001b[A"
     ]
    },
    {
     "name": "stdout",
     "output_type": "stream",
     "text": [
      "Processing chunk 62\n"
     ]
    },
    {
     "name": "stderr",
     "output_type": "stream",
     "text": [
      "\n",
      "\n",
      "\n",
      "\n",
      "\n",
      "62it [40:09, 42.53s/it]\u001b[A\u001b[A\u001b[A\u001b[A\u001b[A"
     ]
    },
    {
     "name": "stdout",
     "output_type": "stream",
     "text": [
      "Processing chunk 63\n"
     ]
    },
    {
     "name": "stderr",
     "output_type": "stream",
     "text": [
      "\n",
      "\n",
      "\n",
      "\n",
      "\n",
      "63it [40:54, 43.33s/it]\u001b[A\u001b[A\u001b[A\u001b[A\u001b[A"
     ]
    },
    {
     "name": "stdout",
     "output_type": "stream",
     "text": [
      "Processing chunk 64\n"
     ]
    },
    {
     "name": "stderr",
     "output_type": "stream",
     "text": [
      "\n",
      "\n",
      "\n",
      "\n",
      "\n",
      "64it [41:37, 43.27s/it]\u001b[A\u001b[A\u001b[A\u001b[A\u001b[A"
     ]
    },
    {
     "name": "stdout",
     "output_type": "stream",
     "text": [
      "Processing chunk 65\n"
     ]
    },
    {
     "name": "stderr",
     "output_type": "stream",
     "text": [
      "\n",
      "\n",
      "\n",
      "\n",
      "\n",
      "65it [42:24, 44.42s/it]\u001b[A\u001b[A\u001b[A\u001b[A\u001b[A"
     ]
    },
    {
     "name": "stdout",
     "output_type": "stream",
     "text": [
      "Processing chunk 66\n"
     ]
    },
    {
     "name": "stderr",
     "output_type": "stream",
     "text": [
      "\n",
      "\n",
      "\n",
      "\n",
      "\n",
      "66it [43:14, 46.02s/it]\u001b[A\u001b[A\u001b[A\u001b[A\u001b[A"
     ]
    },
    {
     "name": "stdout",
     "output_type": "stream",
     "text": [
      "Processing chunk 67\n"
     ]
    },
    {
     "name": "stderr",
     "output_type": "stream",
     "text": [
      "\n",
      "\n",
      "\n",
      "\n",
      "\n",
      "67it [44:07, 48.06s/it]\u001b[A\u001b[A\u001b[A\u001b[A\u001b[A"
     ]
    },
    {
     "name": "stdout",
     "output_type": "stream",
     "text": [
      "Processing chunk 68\n"
     ]
    },
    {
     "name": "stderr",
     "output_type": "stream",
     "text": [
      "\n",
      "\n",
      "\n",
      "\n",
      "\n",
      "68it [44:50, 46.51s/it]\u001b[A\u001b[A\u001b[A\u001b[A\u001b[A"
     ]
    },
    {
     "name": "stdout",
     "output_type": "stream",
     "text": [
      "Processing chunk 69\n"
     ]
    },
    {
     "name": "stderr",
     "output_type": "stream",
     "text": [
      "\n",
      "\n",
      "\n",
      "\n",
      "\n",
      "69it [45:41, 47.86s/it]\u001b[A\u001b[A\u001b[A\u001b[A\u001b[A"
     ]
    },
    {
     "name": "stdout",
     "output_type": "stream",
     "text": [
      "Processing chunk 70\n"
     ]
    },
    {
     "name": "stderr",
     "output_type": "stream",
     "text": [
      "\n",
      "\n",
      "\n",
      "\n",
      "\n",
      "70it [46:33, 49.04s/it]\u001b[A\u001b[A\u001b[A\u001b[A\u001b[A"
     ]
    },
    {
     "name": "stdout",
     "output_type": "stream",
     "text": [
      "Processing chunk 71\n"
     ]
    },
    {
     "name": "stderr",
     "output_type": "stream",
     "text": [
      "\n",
      "\n",
      "\n",
      "\n",
      "\n",
      "71it [47:28, 50.96s/it]\u001b[A\u001b[A\u001b[A\u001b[A\u001b[A"
     ]
    },
    {
     "name": "stdout",
     "output_type": "stream",
     "text": [
      "Processing chunk 72\n"
     ]
    },
    {
     "name": "stderr",
     "output_type": "stream",
     "text": [
      "\n",
      "\n",
      "\n",
      "\n",
      "\n",
      "72it [48:19, 50.88s/it]\u001b[A\u001b[A\u001b[A\u001b[A\u001b[A"
     ]
    },
    {
     "name": "stdout",
     "output_type": "stream",
     "text": [
      "Processing chunk 73\n"
     ]
    },
    {
     "name": "stderr",
     "output_type": "stream",
     "text": [
      "\n",
      "\n",
      "\n",
      "\n",
      "\n",
      "73it [49:34, 58.14s/it]\u001b[A\u001b[A\u001b[A\u001b[A\u001b[A"
     ]
    },
    {
     "name": "stdout",
     "output_type": "stream",
     "text": [
      "Processing chunk 74\n"
     ]
    },
    {
     "name": "stderr",
     "output_type": "stream",
     "text": [
      "\n",
      "\n",
      "\n",
      "\n",
      "\n",
      "74it [50:42, 61.26s/it]\u001b[A\u001b[A\u001b[A\u001b[A\u001b[A"
     ]
    },
    {
     "name": "stdout",
     "output_type": "stream",
     "text": [
      "Processing chunk 75\n"
     ]
    },
    {
     "name": "stderr",
     "output_type": "stream",
     "text": [
      "\n",
      "\n",
      "\n",
      "\n",
      "\n",
      "75it [51:28, 56.43s/it]\u001b[A\u001b[A\u001b[A\u001b[A\u001b[A"
     ]
    },
    {
     "name": "stdout",
     "output_type": "stream",
     "text": [
      "Processing chunk 76\n"
     ]
    },
    {
     "name": "stderr",
     "output_type": "stream",
     "text": [
      "\n",
      "\n",
      "\n",
      "\n",
      "\n",
      "76it [52:19, 55.05s/it]\u001b[A\u001b[A\u001b[A\u001b[A\u001b[A"
     ]
    },
    {
     "name": "stdout",
     "output_type": "stream",
     "text": [
      "Processing chunk 77\n"
     ]
    },
    {
     "name": "stderr",
     "output_type": "stream",
     "text": [
      "\n",
      "\n",
      "\n",
      "\n",
      "\n",
      "77it [53:04, 51.98s/it]\u001b[A\u001b[A\u001b[A\u001b[A\u001b[A"
     ]
    },
    {
     "name": "stdout",
     "output_type": "stream",
     "text": [
      "Processing chunk 78\n"
     ]
    },
    {
     "name": "stderr",
     "output_type": "stream",
     "text": [
      "\n",
      "\n",
      "\n",
      "\n",
      "\n",
      "78it [53:47, 49.14s/it]\u001b[A\u001b[A\u001b[A\u001b[A\u001b[A"
     ]
    },
    {
     "name": "stdout",
     "output_type": "stream",
     "text": [
      "Processing chunk 79\n"
     ]
    },
    {
     "name": "stderr",
     "output_type": "stream",
     "text": [
      "\n",
      "\n",
      "\n",
      "\n",
      "\n",
      "79it [54:38, 49.72s/it]\u001b[A\u001b[A\u001b[A\u001b[A\u001b[A"
     ]
    },
    {
     "name": "stdout",
     "output_type": "stream",
     "text": [
      "Processing chunk 80\n"
     ]
    },
    {
     "name": "stderr",
     "output_type": "stream",
     "text": [
      "\n",
      "\n",
      "\n",
      "\n",
      "\n",
      "80it [55:28, 49.96s/it]\u001b[A\u001b[A\u001b[A\u001b[A\u001b[A"
     ]
    },
    {
     "name": "stdout",
     "output_type": "stream",
     "text": [
      "Processing chunk 81\n"
     ]
    },
    {
     "name": "stderr",
     "output_type": "stream",
     "text": [
      "\n",
      "\n",
      "\n",
      "\n",
      "\n",
      "81it [56:06, 46.19s/it]\u001b[A\u001b[A\u001b[A\u001b[A\u001b[A"
     ]
    },
    {
     "name": "stdout",
     "output_type": "stream",
     "text": [
      "Processing chunk 82\n"
     ]
    },
    {
     "name": "stderr",
     "output_type": "stream",
     "text": [
      "\n",
      "\n",
      "\n",
      "\n",
      "\n",
      "82it [56:54, 46.82s/it]\u001b[A\u001b[A\u001b[A\u001b[A\u001b[A"
     ]
    },
    {
     "name": "stdout",
     "output_type": "stream",
     "text": [
      "Processing chunk 83\n"
     ]
    },
    {
     "name": "stderr",
     "output_type": "stream",
     "text": [
      "\n",
      "\n",
      "\n",
      "\n",
      "\n",
      "83it [57:37, 45.78s/it]\u001b[A\u001b[A\u001b[A\u001b[A\u001b[A"
     ]
    },
    {
     "name": "stdout",
     "output_type": "stream",
     "text": [
      "Processing chunk 84\n"
     ]
    },
    {
     "name": "stderr",
     "output_type": "stream",
     "text": [
      "\n",
      "\n",
      "\n",
      "\n",
      "\n",
      "84it [58:30, 47.94s/it]\u001b[A\u001b[A\u001b[A\u001b[A\u001b[A"
     ]
    },
    {
     "name": "stdout",
     "output_type": "stream",
     "text": [
      "Processing chunk 85\n"
     ]
    },
    {
     "name": "stderr",
     "output_type": "stream",
     "text": [
      "\n",
      "\n",
      "\n",
      "\n",
      "\n",
      "85it [59:08, 44.90s/it]\u001b[A\u001b[A\u001b[A\u001b[A\u001b[A"
     ]
    },
    {
     "name": "stdout",
     "output_type": "stream",
     "text": [
      "Processing chunk 86\n"
     ]
    },
    {
     "name": "stderr",
     "output_type": "stream",
     "text": [
      "\n",
      "\n",
      "\n",
      "\n",
      "\n",
      "86it [59:55, 45.48s/it]\u001b[A\u001b[A\u001b[A\u001b[A\u001b[A"
     ]
    },
    {
     "name": "stdout",
     "output_type": "stream",
     "text": [
      "Processing chunk 87\n"
     ]
    },
    {
     "name": "stderr",
     "output_type": "stream",
     "text": [
      "\n",
      "\n",
      "\n",
      "\n",
      "\n",
      "87it [1:00:36, 44.09s/it]\u001b[A\u001b[A\u001b[A\u001b[A\u001b[A"
     ]
    },
    {
     "name": "stdout",
     "output_type": "stream",
     "text": [
      "Processing chunk 88\n"
     ]
    },
    {
     "name": "stderr",
     "output_type": "stream",
     "text": [
      "\n",
      "\n",
      "\n",
      "\n",
      "\n",
      "88it [1:01:21, 44.38s/it]\u001b[A\u001b[A\u001b[A\u001b[A\u001b[A"
     ]
    },
    {
     "name": "stdout",
     "output_type": "stream",
     "text": [
      "Processing chunk 89\n"
     ]
    },
    {
     "name": "stderr",
     "output_type": "stream",
     "text": [
      "\n",
      "\n",
      "\n",
      "\n",
      "\n",
      "89it [1:02:15, 47.40s/it]\u001b[A\u001b[A\u001b[A\u001b[A\u001b[A"
     ]
    },
    {
     "name": "stdout",
     "output_type": "stream",
     "text": [
      "Processing chunk 90\n"
     ]
    },
    {
     "name": "stderr",
     "output_type": "stream",
     "text": [
      "\n",
      "\n",
      "\n",
      "\n",
      "\n",
      "90it [1:03:07, 48.66s/it]\u001b[A\u001b[A\u001b[A\u001b[A\u001b[A"
     ]
    },
    {
     "name": "stdout",
     "output_type": "stream",
     "text": [
      "Processing chunk 91\n"
     ]
    },
    {
     "name": "stderr",
     "output_type": "stream",
     "text": [
      "\n",
      "\n",
      "\n",
      "\n",
      "\n",
      "91it [1:03:54, 48.18s/it]\u001b[A\u001b[A\u001b[A\u001b[A\u001b[A"
     ]
    },
    {
     "name": "stdout",
     "output_type": "stream",
     "text": [
      "Processing chunk 92\n"
     ]
    },
    {
     "name": "stderr",
     "output_type": "stream",
     "text": [
      "\n",
      "\n",
      "\n",
      "\n",
      "\n",
      "92it [1:04:57, 52.75s/it]\u001b[A\u001b[A\u001b[A\u001b[A\u001b[A"
     ]
    },
    {
     "name": "stdout",
     "output_type": "stream",
     "text": [
      "Processing chunk 93\n"
     ]
    },
    {
     "name": "stderr",
     "output_type": "stream",
     "text": [
      "\n",
      "\n",
      "\n",
      "\n",
      "\n",
      "93it [1:05:42, 50.41s/it]\u001b[A\u001b[A\u001b[A\u001b[A\u001b[A"
     ]
    },
    {
     "name": "stdout",
     "output_type": "stream",
     "text": [
      "Processing chunk 94\n"
     ]
    },
    {
     "name": "stderr",
     "output_type": "stream",
     "text": [
      "\n",
      "\n",
      "\n",
      "\n",
      "\n",
      "94it [1:06:37, 51.78s/it]\u001b[A\u001b[A\u001b[A\u001b[A\u001b[A"
     ]
    },
    {
     "name": "stdout",
     "output_type": "stream",
     "text": [
      "Processing chunk 95\n"
     ]
    },
    {
     "name": "stderr",
     "output_type": "stream",
     "text": [
      "\n",
      "\n",
      "\n",
      "\n",
      "\n",
      "95it [1:07:23, 49.94s/it]\u001b[A\u001b[A\u001b[A\u001b[A\u001b[A"
     ]
    },
    {
     "name": "stdout",
     "output_type": "stream",
     "text": [
      "Processing chunk 96\n"
     ]
    },
    {
     "name": "stderr",
     "output_type": "stream",
     "text": [
      "\n",
      "\n",
      "\n",
      "\n",
      "\n",
      "96it [1:08:08, 48.52s/it]\u001b[A\u001b[A\u001b[A\u001b[A\u001b[A"
     ]
    },
    {
     "name": "stdout",
     "output_type": "stream",
     "text": [
      "Processing chunk 97\n"
     ]
    },
    {
     "name": "stderr",
     "output_type": "stream",
     "text": [
      "\n",
      "\n",
      "\n",
      "\n",
      "\n",
      "97it [1:08:54, 47.59s/it]\u001b[A\u001b[A\u001b[A\u001b[A\u001b[A"
     ]
    },
    {
     "name": "stdout",
     "output_type": "stream",
     "text": [
      "Processing chunk 98\n"
     ]
    },
    {
     "name": "stderr",
     "output_type": "stream",
     "text": [
      "\n",
      "\n",
      "\n",
      "\n",
      "\n",
      "98it [1:09:38, 46.59s/it]\u001b[A\u001b[A\u001b[A\u001b[A\u001b[A"
     ]
    },
    {
     "name": "stdout",
     "output_type": "stream",
     "text": [
      "Processing chunk 99\n"
     ]
    },
    {
     "name": "stderr",
     "output_type": "stream",
     "text": [
      "\n",
      "\n",
      "\n",
      "\n",
      "\n",
      "99it [1:10:41, 51.44s/it]\u001b[A\u001b[A\u001b[A\u001b[A\u001b[A"
     ]
    },
    {
     "name": "stdout",
     "output_type": "stream",
     "text": [
      "Processing chunk 100\n"
     ]
    },
    {
     "name": "stderr",
     "output_type": "stream",
     "text": [
      "\n",
      "\n",
      "\n",
      "\n",
      "\n",
      "100it [1:11:38, 42.98s/it]\u001b[A\u001b[A\u001b[A\u001b[A\u001b[A\n"
     ]
    }
   ],
   "source": [
    "# NER in chunks\n",
    "for i, chunk in tqdm(enumerate(chunks)):\n",
    "    print('Processing chunk '+str(i+1))\n",
    "    chunk['people'] = chunk.text.apply(lambda x: NERPeople(x))\n",
    "    path = 'Data/Chunks/v_'+str(i)+'.csv'\n",
    "    chunk.to_csv(path, sep=';', encoding='utf-8', index=False)"
   ]
  }
 ],
 "metadata": {
  "kernelspec": {
   "display_name": "Python 3",
   "language": "python",
   "name": "python3"
  },
  "language_info": {
   "codemirror_mode": {
    "name": "ipython",
    "version": 3
   },
   "file_extension": ".py",
   "mimetype": "text/x-python",
   "name": "python",
   "nbconvert_exporter": "python",
   "pygments_lexer": "ipython3",
   "version": "3.7.6"
  }
 },
 "nbformat": 4,
 "nbformat_minor": 4
}
