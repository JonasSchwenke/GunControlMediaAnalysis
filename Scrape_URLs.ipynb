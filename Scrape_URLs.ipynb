{
 "cells": [
  {
   "cell_type": "code",
   "execution_count": 2,
   "metadata": {},
   "outputs": [],
   "source": [
    "from newspaper import Article\n",
    "import pandas as pd\n",
    "import warnings\n",
    "warnings.filterwarnings('ignore')\n",
    "from tqdm import tqdm\n",
    "\n",
    "# time out function\n",
    "import signal\n",
    "from contextlib import contextmanager"
   ]
  },
  {
   "cell_type": "code",
   "execution_count": 3,
   "metadata": {
    "code_folding": [
     0
    ]
   },
   "outputs": [],
   "source": [
    "# timeout function\n",
    "class TimeoutException(Exception): pass\n",
    "\n",
    "@contextmanager\n",
    "def time_limit(seconds):\n",
    "    def signal_handler(signum, frame):\n",
    "        raise TimeoutException(\"Timed out!\")\n",
    "    signal.signal(signal.SIGALRM, signal_handler)\n",
    "    signal.alarm(seconds)\n",
    "    try:\n",
    "        yield\n",
    "    finally:\n",
    "        signal.alarm(0)"
   ]
  },
  {
   "cell_type": "code",
   "execution_count": 4,
   "metadata": {
    "code_folding": []
   },
   "outputs": [
    {
     "name": "stderr",
     "output_type": "stream",
     "text": [
      "3it [00:04,  1.66s/it]"
     ]
    },
    {
     "name": "stdout",
     "output_type": "stream",
     "text": [
      "An exception of type AttributeError occurred. Arguments:\n",
      "(\"'float' object has no attribute 'decode'\",)\n"
     ]
    },
    {
     "name": "stderr",
     "output_type": "stream",
     "text": [
      "10it [00:12,  1.29s/it]"
     ]
    },
    {
     "name": "stdout",
     "output_type": "stream",
     "text": [
      "FINISHED!\n"
     ]
    },
    {
     "name": "stderr",
     "output_type": "stream",
     "text": [
      "\n"
     ]
    }
   ],
   "source": [
    "### S C R A P E ###\n",
    "\n",
    "# path to csv\n",
    "path = 'Data/article_urls.csv'\n",
    "# path to save destination\n",
    "savepath = 'Data/scraped_articles.csv'\n",
    "\n",
    "# optionally adjust index range for chunking \n",
    "start = 0\n",
    "end = 50000\n",
    "\n",
    "nrows = end-start\n",
    "\n",
    "df = pd.read_csv(path, \n",
    "                 sep=';',\n",
    "                 names=['stories_id', 'publish_date', 'title', 'url', 'media_name'],\n",
    "                 encoding='latin-1', \n",
    "                 skiprows=start,\n",
    "                 nrows=nrows)\n",
    "\n",
    "# create new dataframe\n",
    "columns = ['media_name', 'title', 'text', 'url', 'error', 'publish_date', 'stories_id']\n",
    "articles = pd.DataFrame(columns=columns)\n",
    "\n",
    "# iterate thru urls and scrape article text and title via NEWSPAPER\n",
    "for index, url in tqdm(enumerate(df['url'])):\n",
    "    # create error variable\n",
    "    error = None\n",
    "    # try to scrape url\n",
    "    try:\n",
    "        with time_limit(60):\n",
    "            article = Article(url)\n",
    "            article.download()\n",
    "            article.parse()\n",
    "    # catch and record all errors   \n",
    "    except Exception as ex:\n",
    "        template = \"An exception of type {0} occurred. Arguments:\\n{1!r}\"\n",
    "        message = template.format(type(ex).__name__, ex.args)\n",
    "        error = type(ex)\n",
    "        print(message)\n",
    "    # append all info to dataframe\n",
    "    articles = articles.append({'media_name': df['media_name'].iloc[index],\n",
    "                                'publish_date': df['publish_date'].iloc[index],\n",
    "                                'stories_id': df['stories_id'].iloc[index],\n",
    "                                'title': article.title, \n",
    "                                'text': article.text,\n",
    "                                'url': url,\n",
    "                                'error': error}, ignore_index=True)\n",
    "\n",
    "# save in csv\n",
    "articles.to_csv(savepath, sep=';', encoding='utf-8', index=False)\n",
    "print('FINISHED!')"
   ]
  }
 ],
 "metadata": {
  "kernelspec": {
   "display_name": "Python 3",
   "language": "python",
   "name": "python3"
  },
  "language_info": {
   "codemirror_mode": {
    "name": "ipython",
    "version": 3
   },
   "file_extension": ".py",
   "mimetype": "text/x-python",
   "name": "python",
   "nbconvert_exporter": "python",
   "pygments_lexer": "ipython3",
   "version": "3.7.6"
  }
 },
 "nbformat": 4,
 "nbformat_minor": 4
}
